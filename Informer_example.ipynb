{
 "cells": [
  {
   "cell_type": "code",
   "id": "initial_id",
   "metadata": {
    "collapsed": true,
    "ExecuteTime": {
     "end_time": "2024-07-12T00:08:46.707887Z",
     "start_time": "2024-07-12T00:08:38.543681Z"
    }
   },
   "source": [
    "import pandas as pd\n",
    "import numpy as np\n",
    "import matplotlib.pyplot as plt\n",
    "from sklearn.preprocessing import MinMaxScaler\n",
    "\n",
    "from datetime import timedelta\n",
    "import torch\n",
    "from torch import nn\n",
    "from torch import optim\n",
    "from torch.utils.data import DataLoader, Dataset\n",
    "\n",
    "from tqdm import tqdm\n",
    "\n",
    "from models.Informer import Informer"
   ],
   "outputs": [],
   "execution_count": 1
  },
  {
   "metadata": {},
   "cell_type": "code",
   "outputs": [],
   "execution_count": null,
   "source": [
    "enc_in = 1\n",
    "dec_in = 1\n",
    "c_out = 1\n",
    "device = torch.device(\"cuda:1\")\n",
    "\n",
    "model = Informer(enc_in, dec_in, c_out, seq_len, label_len, pred_len, device = device).to(device)\n",
    "learning_rate = 1e-4\n",
    "criterion =  nn.MSELoss()\n",
    "\n",
    "model_optim = optim.Adam(model.parameters(), lr=learning_rate)"
   ],
   "id": "c3a4c63caf32771f"
  },
  {
   "metadata": {
    "ExecuteTime": {
     "end_time": "2024-07-12T00:08:52.386362Z",
     "start_time": "2024-07-12T00:08:52.368252Z"
    }
   },
   "cell_type": "code",
   "source": [
    "class StandardScaler():\n",
    "    def __init__(self):\n",
    "        self.mean = 0.\n",
    "        self.std = 1.\n",
    "    \n",
    "    def fit(self, data):\n",
    "        self.mean = data.mean(0)\n",
    "        self.std = data.std(0)\n",
    "\n",
    "    def transform(self, data):\n",
    "        mean = torch.from_numpy(self.mean).type_as(data).to(data.device) if torch.is_tensor(data) else self.mean\n",
    "        std = torch.from_numpy(self.std).type_as(data).to(data.device) if torch.is_tensor(data) else self.std\n",
    "        return (data - mean) / std\n",
    "\n",
    "    def inverse_transform(self, data):\n",
    "        mean = torch.from_numpy(self.mean).type_as(data).to(data.device) if torch.is_tensor(data) else self.mean\n",
    "        std = torch.from_numpy(self.std).type_as(data).to(data.device) if torch.is_tensor(data) else self.std\n",
    "        return (data * std) + mean\n",
    "        \n",
    "\n",
    "def time_features(dates, freq='h'):\n",
    "    dates['month'] = dates.date.apply(lambda row:row.month,1)\n",
    "    dates['day'] = dates.date.apply(lambda row:row.day,1)\n",
    "    dates['weekday'] = dates.date.apply(lambda row:row.weekday(),1)\n",
    "    dates['hour'] = dates.date.apply(lambda row:row.hour,1)\n",
    "    dates['minute'] = dates.date.apply(lambda row:row.minute,1)\n",
    "    dates['minute'] = dates.minute.map(lambda x:x//15)\n",
    "    freq_map = {\n",
    "        'y':[],'m':['month'],'w':['month'],'d':['month','day','weekday'],\n",
    "        'b':['month','day','weekday'],'h':['month','day','weekday','hour'],\n",
    "        't':['month','day','weekday','hour','minute'],\n",
    "    }\n",
    "    return dates[freq_map[freq.lower()]].values\n",
    "\n",
    "def _process_one_batch(batch_x, batch_y, batch_x_mark, batch_y_mark, device):\n",
    "    batch_x = batch_x.float().to(device)\n",
    "    batch_y = batch_y.float()\n",
    "    batch_x_mark = batch_x_mark.float().to(device)\n",
    "    batch_y_mark = batch_y_mark.float().to(device)\n",
    "    dec_inp = torch.zeros([batch_y.shape[0], pred_len, batch_y.shape[-1]]).float()\n",
    "    dec_inp = torch.cat([batch_y[:,:label_len,:], dec_inp], dim=1).float().to(device)\n",
    "    outputs = model(batch_x, batch_x_mark, dec_inp, batch_y_mark)\n",
    "    batch_y = batch_y[:,-pred_len:,0:].to(device)\n",
    "    return outputs, batch_y"
   ],
   "id": "1dc87aa804453249",
   "outputs": [],
   "execution_count": 2
  },
  {
   "metadata": {},
   "cell_type": "code",
   "outputs": [],
   "execution_count": null,
   "source": "",
   "id": "182929e742e464ca"
  }
 ],
 "metadata": {
  "kernelspec": {
   "display_name": "Python 3",
   "language": "python",
   "name": "python3"
  },
  "language_info": {
   "codemirror_mode": {
    "name": "ipython",
    "version": 2
   },
   "file_extension": ".py",
   "mimetype": "text/x-python",
   "name": "python",
   "nbconvert_exporter": "python",
   "pygments_lexer": "ipython2",
   "version": "2.7.6"
  }
 },
 "nbformat": 4,
 "nbformat_minor": 5
}
